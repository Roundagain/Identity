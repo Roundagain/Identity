{
 "cells": [
  {
   "cell_type": "markdown",
   "metadata": {},
   "source": [
    "# Imports"
   ]
  },
  {
   "cell_type": "code",
   "execution_count": null,
   "metadata": {
    "ExecuteTime": {
     "end_time": "2020-04-30T10:02:20.360627Z",
     "start_time": "2020-04-30T10:02:19.666138Z"
    }
   },
   "outputs": [],
   "source": [
    "from IPython.core.display import display, HTML\n",
    "display(HTML(\"<style>.container{max-width:90%!important;width:auto!important;}</style>\"))\n",
    "\n",
    "%reload_ext autoreload\n",
    "%autoreload 2\n",
    "%matplotlib inline"
   ]
  },
  {
   "cell_type": "markdown",
   "metadata": {},
   "source": [
    "##Preprocessing"
   ]
  },
  {
   "cell_type": "code",
   "execution_count": 2,
   "metadata": {},
   "outputs": [
    {
     "data": {
      "text/plain": [
       "'import concurrent\\nfrom concurrent.futures import ProcessPoolExecutor, ThreadPoolExecutor, as_completed\\nfrom sys import platform as _platform\\nfrom functools import partial'"
      ]
     },
     "execution_count": 2,
     "metadata": {},
     "output_type": "execute_result"
    }
   ],
   "source": [
    "'''import concurrent\n",
    "from concurrent.futures import ProcessPoolExecutor, ThreadPoolExecutor, as_completed\n",
    "from sys import platform as _platform\n",
    "from functools import partial'''"
   ]
  },
  {
   "cell_type": "markdown",
   "metadata": {},
   "source": [
    "# Resize and rotate images if necessary"
   ]
  },
  {
   "cell_type": "code",
   "execution_count": 3,
   "metadata": {
    "scrolled": true
   },
   "outputs": [
    {
     "name": "stdout",
     "output_type": "stream",
     "text": [
      "**********   Training Data\n",
      "Starting to process Training Data\n"
     ]
    },
    {
     "data": {
      "application/vnd.jupyter.widget-view+json": {
       "model_id": "b1e83dcfcc48454799d2b128f8a6b8f6",
       "version_major": 2,
       "version_minor": 0
      },
      "text/plain": [
       "HBox(children=(FloatProgress(value=0.0, max=88.0), HTML(value='')))"
      ]
     },
     "metadata": {},
     "output_type": "display_data"
    },
    {
     "name": "stdout",
     "output_type": "stream",
     "text": [
      "\n"
     ]
    },
    {
     "data": {
      "application/vnd.jupyter.widget-view+json": {
       "model_id": "2436e394ac6c4ae5810106bda8e971c5",
       "version_major": 2,
       "version_minor": 0
      },
      "text/plain": [
       "HBox(children=(FloatProgress(value=0.0, max=80.0), HTML(value='')))"
      ]
     },
     "metadata": {},
     "output_type": "display_data"
    },
    {
     "name": "stdout",
     "output_type": "stream",
     "text": [
      "\n",
      "GoodIds: 88\n",
      "BadIds:  80\n",
      "A variable called training_data has been generated and a file called training_data.npy has been saved\n",
      "[array([[0.77254902, 0.79607843, 0.74509804, ..., 0.76078431, 0.75294118,\n",
      "        0.77254902],\n",
      "       [0.78039216, 0.78431373, 0.79215686, ..., 0.76470588, 0.77647059,\n",
      "        0.77647059],\n",
      "       [0.76078431, 0.79215686, 0.77254902, ..., 0.78431373, 0.74901961,\n",
      "        0.78039216],\n",
      "       ...,\n",
      "       [0.7254902 , 0.7254902 , 0.7254902 , ..., 0.74509804, 0.73333333,\n",
      "        0.74509804],\n",
      "       [0.74117647, 0.75294118, 0.74509804, ..., 0.7372549 , 0.72941176,\n",
      "        0.72941176],\n",
      "       [0.70980392, 0.72156863, 0.73333333, ..., 0.71764706, 0.74117647,\n",
      "        0.76862745]]), array([0., 1.])]\n",
      "\n",
      "**********   Test Data\n",
      "Starting to process Test Data\n"
     ]
    },
    {
     "data": {
      "application/vnd.jupyter.widget-view+json": {
       "model_id": "231918b0cc1249edb45f89cd66feabeb",
       "version_major": 2,
       "version_minor": 0
      },
      "text/plain": [
       "HBox(children=(FloatProgress(value=0.0, max=20.0), HTML(value='')))"
      ]
     },
     "metadata": {},
     "output_type": "display_data"
    },
    {
     "name": "stdout",
     "output_type": "stream",
     "text": [
      "\n"
     ]
    },
    {
     "data": {
      "application/vnd.jupyter.widget-view+json": {
       "model_id": "131c686a55b445dcbc21006bb93368e6",
       "version_major": 2,
       "version_minor": 0
      },
      "text/plain": [
       "HBox(children=(FloatProgress(value=0.0, max=20.0), HTML(value='')))"
      ]
     },
     "metadata": {},
     "output_type": "display_data"
    },
    {
     "name": "stdout",
     "output_type": "stream",
     "text": [
      "\n",
      "GoodIds: 20\n",
      "BadIds:  20\n",
      "A variable called test_data has been generated and a file called test_data.npy has been saved\n",
      "[array([[0.99607843, 0.99607843, 0.99607843, ..., 0.99607843, 0.99607843,\n",
      "        0.99607843],\n",
      "       [0.99607843, 0.99607843, 0.99607843, ..., 0.99607843, 0.99607843,\n",
      "        0.99607843],\n",
      "       [0.99607843, 0.99607843, 0.99607843, ..., 0.99607843, 0.99607843,\n",
      "        0.99607843],\n",
      "       ...,\n",
      "       [0.99607843, 0.99607843, 0.99607843, ..., 0.99607843, 0.99607843,\n",
      "        0.99607843],\n",
      "       [0.99607843, 0.99607843, 0.99607843, ..., 0.99607843, 0.99607843,\n",
      "        0.99607843],\n",
      "       [0.99607843, 0.99607843, 0.99607843, ..., 0.99607843, 0.99607843,\n",
      "        0.99607843]]), array([1., 0.])]\n",
      "\n",
      "Data prepared\n",
      "[array([[0.96862745, 0.97254902, 0.98039216, ..., 1.        , 1.        ,\n",
      "        1.        ],\n",
      "       [0.96470588, 0.97647059, 0.92156863, ..., 0.99215686, 1.        ,\n",
      "        1.        ],\n",
      "       [0.95294118, 0.93333333, 0.94117647, ..., 0.99215686, 1.        ,\n",
      "        1.        ],\n",
      "       ...,\n",
      "       [0.85490196, 0.81960784, 0.83137255, ..., 0.85882353, 0.83137255,\n",
      "        0.8745098 ],\n",
      "       [0.84705882, 0.74117647, 0.78431373, ..., 0.70196078, 0.76862745,\n",
      "        0.89803922],\n",
      "       [0.85098039, 0.83137255, 0.72156863, ..., 0.82745098, 0.89019608,\n",
      "        0.89803922]])\n",
      " array([0., 1.])]\n",
      "[array([[0.83529412, 0.83137255, 0.83137255, ..., 0.80784314, 0.82352941,\n",
      "        0.83137255],\n",
      "       [0.83529412, 0.83137255, 0.83137255, ..., 0.74901961, 0.80392157,\n",
      "        0.82352941],\n",
      "       [0.84313725, 0.83921569, 0.83921569, ..., 0.64313725, 0.74509804,\n",
      "        0.79215686],\n",
      "       ...,\n",
      "       [0.87843137, 0.88627451, 0.89019608, ..., 0.88627451, 0.88627451,\n",
      "        0.87843137],\n",
      "       [0.87058824, 0.88235294, 0.87843137, ..., 0.88235294, 0.88235294,\n",
      "        0.87843137],\n",
      "       [0.8745098 , 0.8745098 , 0.88235294, ..., 0.88235294, 0.88235294,\n",
      "        0.87843137]])\n",
      " array([1., 0.])]\n"
     ]
    },
    {
     "data": {
      "image/png": "[encoded data removed]",
      "text/plain": [
       "<Figure size 576x576 with 1 Axes>"
      ]
     },
     "metadata": {
      "needs_background": "light"
     },
     "output_type": "display_data"
    },
    {
     "data": {
      "image/png": "[encoded data removed]",
      "text/plain": [
       "<Figure size 576x576 with 1 Axes>"
      ]
     },
     "metadata": {
      "needs_background": "light"
     },
     "output_type": "display_data"
    }
   ],
   "source": [
    "import numpy as np\n",
    "import matplotlib.pyplot as plt\n",
    "from sklearn.datasets import fetch_openml\n",
    "from tqdm.notebook import trange, tqdm\n",
    "from tempfile import TemporaryDirectory\n",
    "from pathlib import Path\n",
    "import pdb\n",
    "import cv2\n",
    "import requests\n",
    "import mimetypes\n",
    "import json\n",
    "\n",
    "import os\n",
    "from os import listdir\n",
    "from matplotlib import image\n",
    "\n",
    "\n",
    "def show_img(im, ax=None, figsize=(8,8), title=None):\n",
    "    if not ax: _,ax = plt.subplots(1,1,figsize=figsize)\n",
    "    if len(im.shape)==2: im = np.tile(im[:,:,None], 3) \n",
    "    ax.imshow(im);\n",
    "    ax.xaxis.set_visible(False)\n",
    "    ax.yaxis.set_visible(False)\n",
    "    if title: ax.set_title(title)\n",
    "    return ax\n",
    "#End of show_img\n",
    "\n",
    "def rotate_bound(image, angle):\n",
    "    # Rotate images\n",
    "    # Example from PYImageSearch, by Adrian Rosebrock\n",
    "    # grab the dimensions of the image then determine the center\n",
    "    (h, w) = image.shape[:2]\n",
    "    (cX, cY) = (w // 2, h // 2)\n",
    "\n",
    "    # grab rotation matrix (applying the negative of the angle to rotate clockwise), \n",
    "    # then grab sine and cosine (i.e. rotation components of the matrix)\n",
    "    M = cv2.getRotationMatrix2D((cX, cY), -angle, 1.0)\n",
    "    cos = np.abs(M[0, 0])\n",
    "    sin = np.abs(M[0, 1])\n",
    "    # compute new bounding dimensions of image\n",
    "    nW = int((h * sin) + (w * cos))\n",
    "    nH = int((h * cos) + (w * sin))\n",
    "    # adjust rotation matrix to take translation into account \n",
    "    M[0, 2] += (nW / 2) - cX\n",
    "    M[1, 2] += (nH / 2) - cY\n",
    "    # perform rotation and return the image\n",
    "    return cv2.warpAffine(image, M, (nW, nH))\n",
    "#End of rotate_bound\n",
    "    \n",
    "\n",
    "class CardTrainData():\n",
    "    \n",
    "\n",
    "    GOOD = \"Id\\\\\"\n",
    "    BAD =   \"Notid\\\\\"\n",
    "    LABELS = {GOOD: 1, BAD: 0}\n",
    "    training_data = []\n",
    "    TrainingGoodIdcount = 0\n",
    "    TrainingBadIdcount = 0\n",
    "    \n",
    "    def make_training_data(self):\n",
    "        print('Starting to process Training Data')\n",
    "        for label in self.LABELS:\n",
    "                    \n",
    "            folder = (Jobpath+label)           \n",
    "            for f in tqdm(os.listdir(folder)):  \n",
    "                if 'jpeg'or 'jpg' in f:      \n",
    "                    try:\n",
    "                        path = os.path.join(folder, f)\n",
    "                        img_data = cv2.imread(path, cv2.IMREAD_GRAYSCALE)\n",
    "                        # print('Source image location is:  ',path)  #for checking - comment out or remove\n",
    "                        \n",
    "                        (h, w) = img_data.shape[:2]\n",
    "                        if h > w:\n",
    "                           img_data = rotate_bound(img_data, -90) \n",
    "                        \n",
    "                        img_data = cv2.resize(img_data, Size ) #was self.Size\n",
    "                        #img_data = img_data[:, :, [2, 1, 0]] #needed to correct colour change if in RGB\n",
    "                        \n",
    "                        self.training_data.append([(np.array(img_data))/255, np.eye(2)[self.LABELS[label]]])  \n",
    "                        #print('Label is :-  ',np.eye(2)[self.LABELS[label]], self.LABELS[label]) #for checking - comment out or remove\n",
    "                        \n",
    "                        if [self.LABELS[label]] == [1]:\n",
    "                            self.TrainingGoodIdcount += 1\n",
    "                        elif [self.LABELS[label]] == [0]:\n",
    "                            self.TrainingBadIdcount += 1\n",
    "                    except Exception as e:\n",
    "                        pass\n",
    "        show_img(img_data,figsize=(8,8)) # Just as a check when testing program\n",
    "        np.random.shuffle(self.training_data)  \n",
    "        ##self.training_data = []\n",
    "        np.save(\"training_data.npy\", self.training_data)\n",
    "       \n",
    "# End of class CardTrainData()\n",
    "\n",
    "\n",
    "class CardTestData():\n",
    "    \n",
    "    GOOD = \"Idtest\\\\\"\n",
    "    BAD = \"Notidtest\\\\\"\n",
    "    LABELS = {GOOD: 1, BAD: 0}\n",
    "    test_data = []\n",
    "    TestGoodIdcount = 0\n",
    "    TestBadIdcount = 0\n",
    "    \n",
    "    def make_test_data(self):\n",
    "        print('Starting to process Test Data')\n",
    "        for label in self.LABELS:\n",
    "                    \n",
    "            folder = (Jobpath+label)           \n",
    "            for f in tqdm(os.listdir(folder)):  \n",
    "                if \"jpeg\" or \"jpg\" in f:      \n",
    "                    try:\n",
    "                        path = os.path.join(folder, f)\n",
    "                        img_data = cv2.imread(path, cv2.IMREAD_GRAYSCALE)\n",
    "                        # print('Source image location is:  ',path)  #for checking - comment out or remove\n",
    "                        \n",
    "                        (h, w) = img_data.shape[:2]\n",
    "                        if h > w:\n",
    "                           img_data = rotate_bound(img_data, -90) \n",
    "                        \n",
    "                        img_data = cv2.resize(img_data, Size )\n",
    "                        #img_data = img_data[:, :, [2, 1, 0]] #needed to correct colour change if in RGB\n",
    "                        \n",
    "                        self.test_data.append([(np.array(img_data))/255, np.eye(2)[self.LABELS[label]]])  \n",
    "                       #print('Label is :-  ',np.eye(2)[self.LABELS[label]], self.LABELS[label]) #for checking - comment out or remove\n",
    "                        \n",
    "                        if [self.LABELS[label]] == [1]:\n",
    "                            self.TestGoodIdcount += 1\n",
    "                        elif [self.LABELS[label]] == [0]:\n",
    "                            self.TestBadIdcount += 1\n",
    "                    except Exception as e:\n",
    "                        pass\n",
    "                    \n",
    "        show_img(img_data,figsize=(8,8)) # Just as a check when testing programs            \n",
    "        #show_img(self.test_data[0],figsize=(8,8)) # Just as a check when testing programs\n",
    "        np.random.shuffle(self.test_data)        \n",
    "        np.save(\"test_data.npy\", self.test_data)\n",
    "       \n",
    "# End of class CardTestData()\n",
    "\n",
    "#Jobpath = \"C:\\\\Users\\\\user\\\\Documents\\\\Python Scripts\\\\\"\n",
    "Jobpath = \"C:\\\\Users\\\\aer8\\\\Downloads\\\\L7cv\\\\\"\n",
    "\n",
    "\n",
    "DoTrainingDataOnly = True # Set to False for Test Data only\n",
    "\n",
    "Size =   128, 80     #256,160  #  512, 320 \n",
    "\n",
    "if DoTrainingDataOnly:\n",
    "    print('**********   Training Data')\n",
    "   \n",
    "    \n",
    "    datatestproc = CardTrainData()\n",
    "    datatestproc.make_training_data()\n",
    "\n",
    "    print('GoodIds:',datatestproc.TrainingGoodIdcount)  #for checking - comment out or remove\n",
    "    print('BadIds: ',datatestproc.TrainingBadIdcount)   #for checking - comment out or remove    \n",
    "    print('A variable called training_data has been generated and a file called training_data.npy has been saved')   \n",
    "        \n",
    "    #print(CardData.Count )\n",
    "\n",
    "    print(CardTrainData.training_data[1]) # prints first image data and its label\n",
    "    #show_img(CardTrainData.training_data[1], figsize=(8,8)) \n",
    "    print()\n",
    "\n",
    "#else:\n",
    "\n",
    "    print('**********   Test Data'    )\n",
    "\n",
    "    datatestproc = CardTestData()\n",
    "    datatestproc.make_test_data()\n",
    "\n",
    "    print('GoodIds:',datatestproc.TestGoodIdcount)  #for checking - comment out or remove\n",
    "    print('BadIds: ',datatestproc.TestBadIdcount)   #for checking - comment out or remove    \n",
    "    print('A variable called test_data has been generated and a file called test_data.npy has been saved')\n",
    "\n",
    "    print(CardTestData.test_data[1]) # prints first image data and its label\n",
    "    #show_img(CardTrainData.training_data[1], figsize=(8,8)) \n",
    "    print()\n",
    " \n",
    "print('Data prepared')\n",
    "\n",
    "xtraindata = np.load(\"training_data.npy\", allow_pickle=True)\n",
    "xtestdata = np.load(\"test_data.npy\",allow_pickle=True )\n",
    "\n",
    "print(xtraindata[5]) # prints one example of image data and its label\n",
    "print(xtestdata[5]) # prints one example of image data and its label\n"
   ]
  },
  {
   "cell_type": "code",
   "execution_count": 4,
   "metadata": {},
   "outputs": [
    {
     "name": "stdout",
     "output_type": "stream",
     "text": [
      "hello\n",
      "----------------------------------------------------------------\n",
      "        Layer (type)               Output Shape         Param #\n",
      "================================================================\n",
      "            Conv2d-1          [-1, 32, 126, 78]             320\n",
      "            Conv2d-2           [-1, 64, 61, 37]          18,496\n",
      "            Conv2d-3          [-1, 128, 28, 16]          73,856\n",
      "            Linear-4                  [-1, 128]       1,835,136\n",
      "            Linear-5                    [-1, 2]             258\n",
      "================================================================\n",
      "Total params: 1,928,066\n",
      "Trainable params: 1,928,066\n",
      "Non-trainable params: 0\n",
      "----------------------------------------------------------------\n",
      "Input size (MB): 0.04\n",
      "Forward/backward pass size (MB): 3.94\n",
      "Params size (MB): 7.35\n",
      "Estimated Total Size (MB): 11.33\n",
      "----------------------------------------------------------------\n",
      "Net(\n",
      "  (conv1): Conv2d(1, 32, kernel_size=(3, 3), stride=(1, 1))\n",
      "  (conv2): Conv2d(32, 64, kernel_size=(3, 3), stride=(1, 1))\n",
      "  (conv3): Conv2d(64, 128, kernel_size=(3, 3), stride=(1, 1))\n",
      "  (fc1): Linear(in_features=14336, out_features=128, bias=True)\n",
      "  (fc2): Linear(in_features=128, out_features=2, bias=True)\n",
      ")\n",
      "hy\n"
     ]
    }
   ],
   "source": [
    "\n",
    "import torch\n",
    "import torch.nn as nn\n",
    "import torch.nn.functional as F\n",
    "from torchsummary import summary\n",
    "\n",
    "\n",
    "class Net(nn.Module):\n",
    "    def __init__(self):\n",
    "        super().__init__() # just run the init of parent class (nn.Module)\n",
    "        self.conv1 = nn.Conv2d(1, 32, 3) # input is 1 image, 32 output channels, 5x5 kernel / window\n",
    "        self.conv2 = nn.Conv2d(32, 64, 3) # input is 32, bc the first layer output 32. Then we say the output will be 64 channels, 5x5 kernel / window\n",
    "        self.conv3 = nn.Conv2d(64, 128, 3)\n",
    "\n",
    "        x = torch.randn(128,80).view(-1,1,128,80)\n",
    "        self._to_linear = None\n",
    "        self.convs(x)\n",
    "\n",
    "        self.fc1 = nn.Linear(self._to_linear, 128) #flattening.\n",
    "        self.fc2 = nn.Linear(128, 2) #   ????64 ??  512 in, 2 out bc we're doing 2 classes (id or not).\n",
    "\n",
    "    def convs(self, x):\n",
    "        # max pooling over 2x2\n",
    "        x = F.max_pool2d(F.relu(self.conv1(x)), (2, 2))\n",
    "        x = F.max_pool2d(F.relu(self.conv2(x)), (2, 2))\n",
    "        x = F.max_pool2d(F.relu(self.conv3(x)), (2, 2))\n",
    "\n",
    "        if self._to_linear is None:\n",
    "            self._to_linear = x[0].shape[0]*x[0].shape[1]*x[0].shape[2]\n",
    "        return x\n",
    "\n",
    "    def forward(self, x):\n",
    "        x = self.convs(x)\n",
    "        x = x.view(-1, self._to_linear)  # .view is reshape ... this flattens X before \n",
    "        x = F.relu(self.fc1(x))\n",
    "        x = self.fc2(x) # bc this is our output layer. No activation here.\n",
    "        return F.softmax(x, dim=1)\n",
    "\n",
    "\n",
    "net = Net()\n",
    "print ('hello')\n",
    "device = torch.device (\"cpu\") # PyTorch v0.4.0\n",
    "model = Net().to(device)\n",
    "summary(model, (1, 128, 80))\n",
    "print(net)\n",
    "print('hy')"
   ]
  },
  {
   "cell_type": "markdown",
   "metadata": {},
   "source": [
    "# Training Loop"
   ]
  },
  {
   "cell_type": "code",
   "execution_count": 5,
   "metadata": {},
   "outputs": [],
   "source": [
    "import torch.optim as optim\n",
    "\n",
    "optimizer = optim.Adam(net.parameters(), lr=0.001)\n",
    "#loss_function = nn.MSELoss()\n",
    "loss_function = nn.SmoothL1Loss()"
   ]
  },
  {
   "cell_type": "code",
   "execution_count": 6,
   "metadata": {},
   "outputs": [],
   "source": [
    "xtraindata = np.load(\"training_data.npy\", allow_pickle=True)\n",
    "\n",
    "train_X = torch.Tensor([i[0] for i in xtraindata]).view(-1,128,80)\n",
    "\n",
    "train_y = torch.Tensor([i[1] for i in xtraindata])\n"
   ]
  },
  {
   "cell_type": "code",
   "execution_count": 7,
   "metadata": {},
   "outputs": [
    {
     "name": "stdout",
     "output_type": "stream",
     "text": [
      "168\n"
     ]
    }
   ],
   "source": [
    "#train_X = X\n",
    "#train_y = y\n",
    "\n",
    "#VAL_PCT = 0.5  # lets do 50% to save time during program testing\n",
    "#val_size = int(len(X)*VAL_PCT)\n",
    "#val_size = len(X)\n",
    "#print(val_size)\n",
    "\n",
    "#train_X = X[:-val_size]\n",
    "#train_y = y[:-val_size]\n",
    "\n",
    "print(len(train_X))\n",
    "\n",
    "#test_X = X[-val_size:]\n",
    "#test_y = y[-val_size:]\n",
    "#print(len(train_X), len(test_X))\n"
   ]
  },
  {
   "cell_type": "code",
   "execution_count": 8,
   "metadata": {
    "scrolled": true
   },
   "outputs": [
    {
     "data": {
      "application/vnd.jupyter.widget-view+json": {
       "model_id": "58958860854049f0a41a17d04a0b488e",
       "version_major": 2,
       "version_minor": 0
      },
      "text/plain": [
       "HBox(children=(FloatProgress(value=0.0, max=17.0), HTML(value='')))"
      ]
     },
     "metadata": {},
     "output_type": "display_data"
    },
    {
     "name": "stdout",
     "output_type": "stream",
     "text": [
      "\n",
      "Epoch: 0. loss: 0.12079450488090515\n"
     ]
    },
    {
     "data": {
      "application/vnd.jupyter.widget-view+json": {
       "model_id": "be0e17d3850e4ebaba78810fa4fd1d8d",
       "version_major": 2,
       "version_minor": 0
      },
      "text/plain": [
       "HBox(children=(FloatProgress(value=0.0, max=17.0), HTML(value='')))"
      ]
     },
     "metadata": {},
     "output_type": "display_data"
    },
    {
     "name": "stdout",
     "output_type": "stream",
     "text": [
      "\n",
      "Epoch: 1. loss: 0.0969277173280716\n"
     ]
    },
    {
     "data": {
      "application/vnd.jupyter.widget-view+json": {
       "model_id": "5143cd178f6a4a85b8469d5750e92285",
       "version_major": 2,
       "version_minor": 0
      },
      "text/plain": [
       "HBox(children=(FloatProgress(value=0.0, max=17.0), HTML(value='')))"
      ]
     },
     "metadata": {},
     "output_type": "display_data"
    },
    {
     "name": "stdout",
     "output_type": "stream",
     "text": [
      "\n",
      "Epoch: 2. loss: 0.03017624095082283\n"
     ]
    },
    {
     "data": {
      "application/vnd.jupyter.widget-view+json": {
       "model_id": "1016af2a188047368b5fa38c1d0463ad",
       "version_major": 2,
       "version_minor": 0
      },
      "text/plain": [
       "HBox(children=(FloatProgress(value=0.0, max=17.0), HTML(value='')))"
      ]
     },
     "metadata": {},
     "output_type": "display_data"
    },
    {
     "name": "stdout",
     "output_type": "stream",
     "text": [
      "\n",
      "Epoch: 3. loss: 0.020385686308145523\n"
     ]
    },
    {
     "data": {
      "application/vnd.jupyter.widget-view+json": {
       "model_id": "4650253adc654cf593a3a0c19756bd9f",
       "version_major": 2,
       "version_minor": 0
      },
      "text/plain": [
       "HBox(children=(FloatProgress(value=0.0, max=17.0), HTML(value='')))"
      ]
     },
     "metadata": {},
     "output_type": "display_data"
    },
    {
     "name": "stdout",
     "output_type": "stream",
     "text": [
      "\n",
      "Epoch: 4. loss: 0.00839302409440279\n"
     ]
    },
    {
     "data": {
      "application/vnd.jupyter.widget-view+json": {
       "model_id": "65bd705ea89f424f88522c9bf396bc9f",
       "version_major": 2,
       "version_minor": 0
      },
      "text/plain": [
       "HBox(children=(FloatProgress(value=0.0, max=17.0), HTML(value='')))"
      ]
     },
     "metadata": {},
     "output_type": "display_data"
    },
    {
     "name": "stdout",
     "output_type": "stream",
     "text": [
      "\n",
      "Epoch: 5. loss: 0.010681260377168655\n"
     ]
    },
    {
     "data": {
      "application/vnd.jupyter.widget-view+json": {
       "model_id": "c8f446a39f0345f6ba7d8405f0eb29ad",
       "version_major": 2,
       "version_minor": 0
      },
      "text/plain": [
       "HBox(children=(FloatProgress(value=0.0, max=17.0), HTML(value='')))"
      ]
     },
     "metadata": {},
     "output_type": "display_data"
    },
    {
     "name": "stdout",
     "output_type": "stream",
     "text": [
      "\n",
      "Epoch: 6. loss: 0.012575617991387844\n"
     ]
    },
    {
     "data": {
      "application/vnd.jupyter.widget-view+json": {
       "model_id": "12716497360447bd9a95a8e03ccae386",
       "version_major": 2,
       "version_minor": 0
      },
      "text/plain": [
       "HBox(children=(FloatProgress(value=0.0, max=17.0), HTML(value='')))"
      ]
     },
     "metadata": {},
     "output_type": "display_data"
    },
    {
     "name": "stdout",
     "output_type": "stream",
     "text": [
      "\n",
      "Epoch: 7. loss: 0.011309823952615261\n"
     ]
    },
    {
     "data": {
      "application/vnd.jupyter.widget-view+json": {
       "model_id": "9c2e6c23d4f64ee4bb0434b1dd9a8e43",
       "version_major": 2,
       "version_minor": 0
      },
      "text/plain": [
       "HBox(children=(FloatProgress(value=0.0, max=17.0), HTML(value='')))"
      ]
     },
     "metadata": {},
     "output_type": "display_data"
    },
    {
     "name": "stdout",
     "output_type": "stream",
     "text": [
      "\n",
      "Epoch: 8. loss: 0.008444656617939472\n"
     ]
    },
    {
     "data": {
      "application/vnd.jupyter.widget-view+json": {
       "model_id": "2cb7f33bc7824ccfb3e4dfff0fafb749",
       "version_major": 2,
       "version_minor": 0
      },
      "text/plain": [
       "HBox(children=(FloatProgress(value=0.0, max=17.0), HTML(value='')))"
      ]
     },
     "metadata": {},
     "output_type": "display_data"
    },
    {
     "name": "stdout",
     "output_type": "stream",
     "text": [
      "\n",
      "Epoch: 9. loss: 0.028405090793967247\n"
     ]
    }
   ],
   "source": [
    "BATCH_SIZE = 10 #reduce from 100 to 10 for testing\n",
    "EPOCHS = 10\n",
    "\n",
    "for epoch in range(EPOCHS):\n",
    "    for i in tqdm(range(0, len(train_X), BATCH_SIZE)): # from 0, to the len of x, stepping BATCH_SIZE at a time. [:50] ..for now just to dev\n",
    "        #print(f\"{i}:{i+BATCH_SIZE}\")\n",
    "        batch_X = train_X[i:i+BATCH_SIZE].view(-1, 1, 128, 80)\n",
    "        batch_y = train_y[i:i+BATCH_SIZE]\n",
    "\n",
    "        net.zero_grad()\n",
    "\n",
    "        outputs = net(batch_X)\n",
    "        loss = loss_function(outputs, batch_y)\n",
    "        loss.backward()\n",
    "        optimizer.step()    # Does the update\n",
    "\n",
    "    print(f\"Epoch: {epoch}. loss: {loss}\")"
   ]
  },
  {
   "cell_type": "markdown",
   "metadata": {},
   "source": [
    "# Testing Loop\n"
   ]
  },
  {
   "cell_type": "code",
   "execution_count": 11,
   "metadata": {
    "ExecuteTime": {
     "end_time": "2020-04-30T10:02:24.731625Z",
     "start_time": "2020-04-30T10:02:24.577088Z"
    }
   },
   "outputs": [],
   "source": [
    "def one_epoch(net, loss, dl, opt=None, metric=None):\n",
    "    \n",
    "    if opt:\n",
    "        net.train()  # only affects some layers\n",
    "    else:\n",
    "        net.eval()\n",
    "        rq_stored = []\n",
    "        for p in net.parameters():\n",
    "            rq_stored.append(p.requires_grad)\n",
    "            p.requires_grad = False\n",
    "    \n",
    "    L, M = [], []\n",
    "    dl_it = iter(dl)\n",
    "    for xb, yb in tqdm(dl_it, leave=False):\n",
    "        xb, yb = xb, yb\n",
    "        y_ = net(xb)\n",
    "        l = loss(y_, yb)\n",
    "        if opt:\n",
    "            opt.zero_grad()\n",
    "            l.backward()\n",
    "            opt.step()\n",
    "        L.append(l.detach().cpu().numpy())\n",
    "        if metric: M.append(metric(y_, yb).cpu().numpy())\n",
    "        \n",
    "    if not opt:\n",
    "        for p,rq in zip(net.parameters(), rq_stored): p.requires_grad = rq\n",
    "            \n",
    "    return L, M    "
   ]
  },
  {
   "cell_type": "code",
   "execution_count": 15,
   "metadata": {},
   "outputs": [
    {
     "data": {
      "application/vnd.jupyter.widget-view+json": {
       "model_id": "ecdeb6a6502e4ad6b60e6186b26880e9",
       "version_major": 2,
       "version_minor": 0
      },
      "text/plain": [
       "HBox(children=(FloatProgress(value=0.0, max=40.0), HTML(value='')))"
      ]
     },
     "metadata": {},
     "output_type": "display_data"
    },
    {
     "name": "stdout",
     "output_type": "stream",
     "text": [
      "\n",
      "Accuracy: 0.825\n",
      "\n",
      "Extra for Confusion Matrix\n",
      "Sensitivity: 0.800\n",
      "Precision: 0.842\n",
      "Accuracy: 0.825\n",
      "\n"
     ]
    }
   ],
   "source": [
    "\n",
    "xtestdata = np.load(\"test_data.npy\",allow_pickle=True )\n",
    "\n",
    "test_X = torch.Tensor([i[0] for i in xtestdata]).view(-1,128,80)\n",
    "\n",
    "test_y = torch.Tensor([i[1] for i in xtestdata])\n",
    "\n",
    "\n",
    "TP = 0 #True positive count \n",
    "FP = 0 #False positive count\n",
    "FN = 0 #False negative count\n",
    "TN = 0 #True negative count\n",
    "\n",
    "correct = 0\n",
    "total = 0\n",
    "with torch.no_grad():\n",
    "    for i in tqdm(range(len(test_X))):\n",
    "        real_class = torch.argmax(test_y[i])\n",
    "        net_out = net(test_X[i].view(-1, 1, 128, 80))[0]  # returns a list, \n",
    "        predicted_class = torch.argmax(net_out)\n",
    "\n",
    "        if predicted_class == real_class:\n",
    "            correct += 1          \n",
    "        total += 1\n",
    "        \n",
    "        if predicted_class == real_class:\n",
    "            if real_class == 1:\n",
    "                TP += 1\n",
    "            else:\n",
    "                TN += 1\n",
    "        else:           \n",
    "            if real_class == 1:\n",
    "                FN += 1\n",
    "            else:\n",
    "                FP += 1\n",
    "         \n",
    "\n",
    "print('Accuracy: %.3f' % (round(correct/total, 3)))       \n",
    "#print(\"Accuracy: \", round(correct/total, 3))\n",
    "print()\n",
    "print('Extra for Confusion Matrix')\n",
    "print('Sensitivity: %.3f' % (round(TP/(TP+FN), 3)))   \n",
    "print('Precision: %.3f' % (round(TP/(TP+FP), 3)))   \n",
    "print('Accuracy: %.3f' % (round((TP + TN)/(TP+TN+FP+FN), 3)))  \n",
    "print()"
   ]
  },
  {
   "cell_type": "code",
   "execution_count": null,
   "metadata": {},
   "outputs": [],
   "source": []
  },
  {
   "cell_type": "code",
   "execution_count": 13,
   "metadata": {
    "ExecuteTime": {
     "end_time": "2020-04-30T10:02:25.915344Z",
     "start_time": "2020-04-30T10:02:25.835557Z"
    }
   },
   "outputs": [],
   "source": [
    "accuracy = lambda y_,yb: (y_.max(dim=1)[1] == yb).float().mean()"
   ]
  },
  {
   "cell_type": "code",
   "execution_count": null,
   "metadata": {
    "ExecuteTime": {
     "end_time": "2020-04-30T10:02:26.495227Z",
     "start_time": "2020-04-30T10:02:26.314402Z"
    }
   },
   "outputs": [],
   "source": [
    "def fit(net, tr_dl, val_dl, loss=nn.CrossEntropyLoss(), epochs=3, lr=3e-3, wd=1e-3, plot=True):   \n",
    "    \n",
    "    opt = optim.Adam(net.parameters(), lr=lr, weight_decay=wd)\n",
    "    \n",
    "    Ltr_hist, Lval_hist = [], []\n",
    "    for epoch in trange(epochs):\n",
    "        Ltr,  _    = one_epoch(net, loss, tr_dl,  opt)\n",
    "        Lval, Aval = one_epoch(net, loss, val_dl, None, accuracy)\n",
    "        Ltr_hist.append(np.mean(Ltr))\n",
    "        Lval_hist.append(np.mean(Lval))\n",
    "        print(f'epoch: {epoch}\\ttraining loss: {np.mean(Ltr):0.4f}\\tvalidation loss: {np.mean(Lval):0.4f}\\tvalidation accuracy: {np.mean(Aval):0.2f}')\n",
    "        \n",
    "    # plot the losses     \n",
    "    if plot:\n",
    "        _,ax = plt.subplots(1,1,figsize=(16,4))\n",
    "        ax.plot(1+np.arange(len(Ltr_hist)),Ltr_hist)\n",
    "        ax.plot(1+np.arange(len(Lval_hist)),Lval_hist)\n",
    "        ax.grid('on')\n",
    "        ax.set_xlim(left=1, right=len(Ltr_hist))\n",
    "        ax.legend(['training loss', 'validation loss']);\n",
    "        \n",
    "    return Ltr_hist, Lval_hist"
   ]
  },
  {
   "cell_type": "markdown",
   "metadata": {},
   "source": [
    "# STL10 Dataset (copied from previous notebook)"
   ]
  },
  {
   "cell_type": "code",
   "execution_count": null,
   "metadata": {},
   "outputs": [],
   "source": []
  },
  {
   "cell_type": "code",
   "execution_count": null,
   "metadata": {},
   "outputs": [],
   "source": []
  }
 ],
 "metadata": {
  "kernelspec": {
   "display_name": "Python 3",
   "language": "python",
   "name": "python3"
  },
  "language_info": {
   "codemirror_mode": {
    "name": "ipython",
    "version": 3
   },
   "file_extension": ".py",
   "mimetype": "text/x-python",
   "name": "python",
   "nbconvert_exporter": "python",
   "pygments_lexer": "ipython3",
   "version": "3.8.1"
  },
  "toc": {
   "base_numbering": 1,
   "nav_menu": {},
   "number_sections": true,
   "sideBar": true,
   "skip_h1_title": false,
   "title_cell": "Table of Contents",
   "title_sidebar": "Contents",
   "toc_cell": false,
   "toc_position": {
    "height": "704px",
    "left": "137px",
    "top": "110.444px",
    "width": "180.903px"
   },
   "toc_section_display": true,
   "toc_window_display": true
  },
  "varInspector": {
   "cols": {
    "lenName": 16,
    "lenType": 16,
    "lenVar": "160"
   },
   "kernels_config": {
    "python": {
     "delete_cmd_postfix": "",
     "delete_cmd_prefix": "del ",
     "library": "var_list.py",
     "varRefreshCmd": "print(var_dic_list())"
    },
    "r": {
     "delete_cmd_postfix": ") ",
     "delete_cmd_prefix": "rm(",
     "library": "var_list.r",
     "varRefreshCmd": "cat(var_dic_list()) "
    }
   },
   "types_to_exclude": [
    "module",
    "function",
    "builtin_function_or_method",
    "instance",
    "_Feature"
   ],
   "window_display": false
  }
 },
 "nbformat": 4,
 "nbformat_minor": 2
}
