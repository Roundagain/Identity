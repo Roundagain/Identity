{
 "cells": [
  {
   "cell_type": "markdown",
   "metadata": {},
   "source": [
    "# Imports"
   ]
  },
  {
   "cell_type": "code",
   "execution_count": null,
   "metadata": {
    "ExecuteTime": {
     "end_time": "2020-02-12T08:52:33.337460Z",
     "start_time": "2020-02-12T08:52:33.148369Z"
    }
   },
   "outputs": [],
   "source": [
    "from IPython.core.display import display, HTML\n",
    "display(HTML(\"<style>.container{max-width:80%!important;width:auto!important;}</style>\"))\n",
    "\n",
    "%reload_ext autoreload\n",
    "%autoreload 2\n",
    "%matplotlib inline"
   ]
  },
  {
   "cell_type": "code",
   "execution_count": null,
   "metadata": {},
   "outputs": [],
   "source": [
    "import cv2\n",
    "import numpy as np\n",
    "import pandas as pd\n",
    "import matplotlib.pyplot as plt\n",
    "from tqdm.notebook import trange # https://tqdm.github.io/"
   ]
  },
  {
   "cell_type": "code",
   "execution_count": null,
   "metadata": {
    "ExecuteTime": {
     "end_time": "2020-02-12T08:52:38.862945Z",
     "start_time": "2020-02-12T08:52:38.842146Z"
    }
   },
   "outputs": [],
   "source": [
    "def show_img(im, ax=None, figsize=(8,8)):\n",
    "    if not ax: _,ax = plt.subplots(1,1,figsize=figsize)\n",
    "    if len(im.shape)==2: im = np.tile(im[:,:,None], 3) \n",
    "    ax.imshow(im[:,:,::-1]);\n",
    "    ax.xaxis.set_visible(False)\n",
    "    ax.yaxis.set_visible(False)\n",
    "    return ax"
   ]
  },
  {
   "cell_type": "markdown",
   "metadata": {
    "ExecuteTime": {
     "end_time": "2020-01-27T12:49:11.167568Z",
     "start_time": "2020-01-27T12:49:11.150360Z"
    }
   },
   "source": [
    "# Image feature descriptors"
   ]
  },
  {
   "cell_type": "markdown",
   "metadata": {},
   "source": [
    "## Corner detection"
   ]
  },
  {
   "cell_type": "markdown",
   "metadata": {},
   "source": [
    "### Harris Corner Detection"
   ]
  },
  {
   "cell_type": "code",
   "execution_count": null,
   "metadata": {
    "ExecuteTime": {
     "end_time": "2020-02-12T08:55:01.063090Z",
     "start_time": "2020-02-12T08:55:00.767548Z"
    }
   },
   "outputs": [],
   "source": [
    "im = cv2.imread('Data/BUlogor.jpg')\n",
    "show_img(im, figsize=(16,16));"
   ]
  },
  {
   "cell_type": "code",
   "execution_count": null,
   "metadata": {
    "ExecuteTime": {
     "end_time": "2020-02-12T08:55:02.499993Z",
     "start_time": "2020-02-12T08:55:02.481782Z"
    }
   },
   "outputs": [],
   "source": [
    "gray = cv2.cvtColor(im, cv2.COLOR_BGR2GRAY).astype(np.float32)"
   ]
  },
  {
   "cell_type": "code",
   "execution_count": null,
   "metadata": {
    "ExecuteTime": {
     "end_time": "2020-02-12T08:57:02.004031Z",
     "start_time": "2020-02-12T08:57:01.984557Z"
    }
   },
   "outputs": [],
   "source": [
    "??cv2.cornerHarris"
   ]
  },
  {
   "cell_type": "code",
   "execution_count": null,
   "metadata": {
    "ExecuteTime": {
     "end_time": "2020-02-12T08:55:18.515907Z",
     "start_time": "2020-02-12T08:55:18.273458Z"
    }
   },
   "outputs": [],
   "source": [
    "dst = cv2.cornerHarris(gray, 2, 3, 0.04)\n",
    "show_img(cv2.convertScaleAbs(dst), figsize=(16,16));"
   ]
  },
  {
   "cell_type": "code",
   "execution_count": null,
   "metadata": {
    "ExecuteTime": {
     "end_time": "2020-02-12T08:58:04.707600Z",
     "start_time": "2020-02-12T08:58:04.473333Z"
    }
   },
   "outputs": [],
   "source": [
    "im_copy = im.copy()\n",
    "for pt in np.argwhere(dst>0.05*dst.max()):\n",
    "    im_copy = cv2.circle(im_copy, tuple(pt[::-1]), 5, (0,255,0), 10)\n",
    "show_img(im_copy, figsize=(12,12));"
   ]
  },
  {
   "cell_type": "code",
   "execution_count": null,
   "metadata": {
    "ExecuteTime": {
     "end_time": "2020-02-12T08:58:39.840589Z",
     "start_time": "2020-02-12T08:58:39.294280Z"
    }
   },
   "outputs": [],
   "source": [
    "plt.hist(dst.flatten(), 50, log=True);"
   ]
  },
  {
   "cell_type": "markdown",
   "metadata": {},
   "source": [
    "### Shi-Tomasi Corner Detection"
   ]
  },
  {
   "cell_type": "code",
   "execution_count": null,
   "metadata": {
    "ExecuteTime": {
     "end_time": "2020-02-12T09:00:18.785948Z",
     "start_time": "2020-02-12T09:00:18.483278Z"
    },
    "scrolled": false
   },
   "outputs": [],
   "source": [
    "im_copy = im.copy()\n",
    "corners = cv2.goodFeaturesToTrack(gray, 70, 0.01, 5, useHarrisDetector=False)\n",
    "for c in corners:\n",
    "    im_copy = cv2.circle(im_copy, tuple(c.squeeze()), 5, (0,255,0), 10)\n",
    "show_img(im_copy, figsize=(12,12));"
   ]
  },
  {
   "cell_type": "markdown",
   "metadata": {},
   "source": [
    "## SIFT and SURF"
   ]
  },
  {
   "cell_type": "code",
   "execution_count": null,
   "metadata": {
    "ExecuteTime": {
     "end_time": "2020-02-12T09:03:29.493082Z",
     "start_time": "2020-02-12T09:03:29.008644Z"
    }
   },
   "outputs": [],
   "source": [
    "im = cv2.imread('05-files/fusion-building.jpg')\n",
    "show_img(im, figsize=(16,16));"
   ]
  },
  {
   "cell_type": "code",
   "execution_count": null,
   "metadata": {
    "ExecuteTime": {
     "end_time": "2020-02-12T09:17:27.433401Z",
     "start_time": "2020-02-12T09:17:27.286098Z"
    }
   },
   "outputs": [],
   "source": [
    "sift = cv2.xfeatures2d.SIFT_create()\n",
    "kp, des = sift.detectAndCompute(im, None)"
   ]
  },
  {
   "cell_type": "code",
   "execution_count": null,
   "metadata": {
    "ExecuteTime": {
     "end_time": "2020-02-12T09:17:35.385421Z",
     "start_time": "2020-02-12T09:17:34.905130Z"
    }
   },
   "outputs": [],
   "source": [
    "im_copy = im.copy()\n",
    "cv2.drawKeypoints(im, kp, im_copy, flags=cv2.DRAW_MATCHES_FLAGS_DRAW_RICH_KEYPOINTS)\n",
    "show_img(im_copy, figsize=(16,16));"
   ]
  },
  {
   "cell_type": "code",
   "execution_count": null,
   "metadata": {
    "ExecuteTime": {
     "end_time": "2020-02-12T09:05:52.599276Z",
     "start_time": "2020-02-12T09:05:52.579440Z"
    }
   },
   "outputs": [],
   "source": [
    "des.shape"
   ]
  },
  {
   "cell_type": "code",
   "execution_count": null,
   "metadata": {
    "ExecuteTime": {
     "end_time": "2020-02-12T09:17:47.560830Z",
     "start_time": "2020-02-12T09:17:47.448294Z"
    }
   },
   "outputs": [],
   "source": [
    "surf = cv2.xfeatures2d.SURF_create(1329)\n",
    "kp, des = surf.detectAndCompute(im, None)\n",
    "des.shape"
   ]
  },
  {
   "cell_type": "code",
   "execution_count": null,
   "metadata": {
    "ExecuteTime": {
     "end_time": "2020-02-12T09:17:57.632268Z",
     "start_time": "2020-02-12T09:17:57.171628Z"
    }
   },
   "outputs": [],
   "source": [
    "im_copy = im.copy()\n",
    "cv2.drawKeypoints(im, kp, im_copy, flags=cv2.DRAW_MATCHES_FLAGS_DRAW_RICH_KEYPOINTS)\n",
    "show_img(im_copy, figsize=(16,16));"
   ]
  },
  {
   "cell_type": "code",
   "execution_count": null,
   "metadata": {
    "ExecuteTime": {
     "end_time": "2020-02-12T09:18:38.902504Z",
     "start_time": "2020-02-12T09:18:38.880744Z"
    }
   },
   "outputs": [],
   "source": [
    "sift = cv2.xfeatures2d.SIFT_create()\n",
    "surf = cv2.xfeatures2d.SURF_create(1329, upright=False)\n",
    "surf.setExtended(True)"
   ]
  },
  {
   "cell_type": "markdown",
   "metadata": {},
   "source": [
    "## FAST + BRIEF = ORB"
   ]
  },
  {
   "cell_type": "code",
   "execution_count": null,
   "metadata": {
    "ExecuteTime": {
     "end_time": "2020-02-12T09:15:57.881770Z",
     "start_time": "2020-02-12T09:15:57.311540Z"
    },
    "scrolled": false
   },
   "outputs": [],
   "source": [
    "im = cv2.imread('Data/BUlogor.jpg')\n",
    "orb = cv2.ORB_create()\n",
    "kp = orb.detect(im, None)\n",
    "kp, des = orb.compute(im, kp)\n",
    "img2 = cv2.drawKeypoints(im, kp, None, flags=cv2.DRAW_MATCHES_FLAGS_DRAW_RICH_KEYPOINTS)\n",
    "show_img(img2, figsize=(16,16));"
   ]
  },
  {
   "cell_type": "code",
   "execution_count": null,
   "metadata": {
    "ExecuteTime": {
     "end_time": "2020-02-12T09:18:17.345632Z",
     "start_time": "2020-02-12T09:18:15.658893Z"
    }
   },
   "outputs": [],
   "source": [
    "orb = cv2.ORB_create()\n",
    "%timeit -n10 orb.compute(im, orb.detect(im, None))"
   ]
  },
  {
   "cell_type": "markdown",
   "metadata": {},
   "source": [
    "# Feature matching"
   ]
  },
  {
   "cell_type": "code",
   "execution_count": null,
   "metadata": {
    "ExecuteTime": {
     "end_time": "2020-02-12T08:52:38.091655Z",
     "start_time": "2020-02-12T08:52:37.985972Z"
    }
   },
   "outputs": [],
   "source": [
    "import cv2\n",
    "import numpy as np\n",
    "import matplotlib.pyplot as plt\n",
    "import matplotlib"
   ]
  },
  {
   "cell_type": "code",
   "execution_count": null,
   "metadata": {
    "ExecuteTime": {
     "end_time": "2020-02-12T09:33:53.265614Z",
     "start_time": "2020-02-12T09:33:53.246184Z"
    }
   },
   "outputs": [],
   "source": [
    "def show_imgs(ims, rows=1, figsize=(16,16)):\n",
    "    _,ax = plt.subplots(rows, len(ims)//rows, figsize=figsize)\n",
    "    [show_imgs(im,ax_) for im,ax_ in zip(ims,ax.flatten())]\n",
    "    return ax"
   ]
  },
  {
   "cell_type": "code",
   "execution_count": null,
   "metadata": {
    "ExecuteTime": {
     "end_time": "2020-02-12T09:35:24.974820Z",
     "start_time": "2020-02-12T09:35:24.419150Z"
    }
   },
   "outputs": [],
   "source": [
    "im1 = cv2.imread('Data/trial.jpeg')\n",
    "\n",
    "im2 = cv2.imread('Data/BUlogor.jpg')\n",
    "show_imgs((im1,im2), rows=1, figsize=(16,16));"
   ]
  },
  {
   "cell_type": "markdown",
   "metadata": {},
   "source": [
    "## Brute-force matcher"
   ]
  },
  {
   "cell_type": "markdown",
   "metadata": {},
   "source": [
    "The [brute-force matcher](https://docs.opencv.org/3.4.9/dc/dc3/tutorial_py_matcher.html) tries to match each and every feature in the first image with each and every features in the second image, which is slow. If the first image has $n_1$ features and the second image has $n_2$ features, the brute-force approach will evaluate $n_1 \\times n_2$ potential matches."
   ]
  },
  {
   "cell_type": "code",
   "execution_count": null,
   "metadata": {
    "ExecuteTime": {
     "end_time": "2020-02-12T09:40:31.846758Z",
     "start_time": "2020-02-12T09:40:31.400018Z"
    }
   },
   "outputs": [],
   "source": [
    "descr = cv2.xfeatures2d.SURF_create()\n",
    "# descr = cv2.ORB_create()\n",
    "kp1,des1 = descr.detectAndCompute(im1,None)\n",
    "kp2,des2 = descr.detectAndCompute(im2,None)"
   ]
  },
  {
   "cell_type": "markdown",
   "metadata": {},
   "source": [
    "`cv2.BFMatcher` takes two arguments:\n",
    "- `normType` - denotes *how* to calculate the similarity of the descriptors; `cv2.NORM_L2` (i.e. Euclidean) is the default, which works well for SIFT and SURF; for ORB `cv2.NORM_HAMMING` (i.e. bit distance)\n",
    "- `crossCheck` - `False` by default; if `True` only returns matches which are \"symmetrical\", i.e. where a pair of descriptors are each others best matches"
   ]
  },
  {
   "cell_type": "markdown",
   "metadata": {},
   "source": [
    "The `cv2.BFMatcher.match(queryDescr, trainDescr)` method returns a `list` of `DMatch` objects:\n",
    "- `DMatch.distance` - distance between descriptors using `normType`\n",
    "- `DMatch.queryIdx` - index of the descriptor in query descriptors\n",
    "- `DMatch.trainIdx` - index of the descriptor in train descriptors"
   ]
  },
  {
   "cell_type": "code",
   "execution_count": null,
   "metadata": {
    "ExecuteTime": {
     "end_time": "2020-02-12T09:49:05.863186Z",
     "start_time": "2020-02-12T09:49:05.242031Z"
    }
   },
   "outputs": [],
   "source": [
    "bf = cv2.BFMatcher(cv2.NORM_L2, crossCheck=True)\n",
    "matches = bf.match(des1,des2)\n",
    "matches = sorted(matches, key=lambda x: x.distance)"
   ]
  },
  {
   "cell_type": "code",
   "execution_count": null,
   "metadata": {
    "ExecuteTime": {
     "end_time": "2020-02-12T09:49:07.734305Z",
     "start_time": "2020-02-12T09:49:06.876922Z"
    }
   },
   "outputs": [],
   "source": [
    "im_match = cv2.drawMatches(im1,kp1,im2,kp2,matches[:65],None,matchColor=(0,255,0),flags=cv2.DrawMatchesFlags_NOT_DRAW_SINGLE_POINTS)\n",
    "show_img(im_match, figsize=(30,30));"
   ]
  },
  {
   "cell_type": "markdown",
   "metadata": {},
   "source": [
    "## FLANN (Fast Library for Approximate Nearest Neighbors) matching"
   ]
  },
  {
   "cell_type": "code",
   "execution_count": null,
   "metadata": {
    "ExecuteTime": {
     "end_time": "2020-02-12T09:57:47.714807Z",
     "start_time": "2020-02-12T09:57:47.490205Z"
    }
   },
   "outputs": [],
   "source": [
    "FLANN_INDEX_KDTREE=1\n",
    "index_params = dict(algorithm=FLANN_INDEX_KDTREE, trees=5)\n",
    "search_params = dict(checks=50)\n",
    "flann = cv2.FlannBasedMatcher(index_params,search_params)\n",
    "\n",
    "matches = flann.match(des1,des2)\n",
    "matches = sorted(matches, key=lambda x: x.distance)"
   ]
  },
  {
   "cell_type": "code",
   "execution_count": null,
   "metadata": {
    "ExecuteTime": {
     "end_time": "2020-02-12T10:00:27.223483Z",
     "start_time": "2020-02-12T10:00:26.353575Z"
    }
   },
   "outputs": [],
   "source": [
    "im_match = cv2.drawMatches(im1,kp1,im2,kp2,matches[:5],None,matchColor=(0,255,0),flags=cv2.DrawMatchesFlags_NOT_DRAW_SINGLE_POINTS)\n",
    "show_img(im_match, figsize=(30,30));"
   ]
  },
  {
   "cell_type": "markdown",
   "metadata": {},
   "source": [
    "## Homography"
   ]
  },
  {
   "cell_type": "code",
   "execution_count": null,
   "metadata": {
    "ExecuteTime": {
     "end_time": "2020-02-12T10:01:58.789138Z",
     "start_time": "2020-02-12T10:01:58.187030Z"
    }
   },
   "outputs": [],
   "source": [
    "im1 = cv2.imread('Data/student201.jpeg')\n",
    "im2 = cv2.imread('Data/s103.jpg')\n",
    "show_imgs((im1,im2), rows=1, figsize=(24,12));"
   ]
  },
  {
   "cell_type": "code",
   "execution_count": null,
   "metadata": {
    "ExecuteTime": {
     "end_time": "2020-02-12T10:05:19.851976Z",
     "start_time": "2020-02-12T10:05:19.800980Z"
    }
   },
   "outputs": [],
   "source": [
    "descr = cv2.ORB_create()\n",
    "kp1,des1 = descr.detectAndCompute(im1, None)\n",
    "kp2,des2 = descr.detectAndCompute(im2, None)"
   ]
  },
  {
   "cell_type": "code",
   "execution_count": null,
   "metadata": {
    "ExecuteTime": {
     "end_time": "2020-02-12T10:05:21.584928Z",
     "start_time": "2020-02-12T10:05:21.565537Z"
    }
   },
   "outputs": [],
   "source": [
    "bf = cv2.BFMatcher(cv2.NORM_HAMMING, crossCheck=True)\n",
    "matches = bf.match(des1,des2)\n",
    "matches = sorted(matches, key=lambda x: x.distance)"
   ]
  },
  {
   "cell_type": "code",
   "execution_count": null,
   "metadata": {
    "ExecuteTime": {
     "end_time": "2020-02-12T10:05:23.299204Z",
     "start_time": "2020-02-12T10:05:22.825105Z"
    }
   },
   "outputs": [],
   "source": [
    "im_match = cv2.drawMatches(im1,kp1,im2,kp2,matches[:25],None,flags=cv2.DrawMatchesFlags_NOT_DRAW_SINGLE_POINTS)\n",
    "show_img(im_match, figsize=(16,16));"
   ]
  },
  {
   "cell_type": "code",
   "execution_count": null,
   "metadata": {},
   "outputs": [],
   "source": []
  }
 ],
 "metadata": {
  "kernelspec": {
   "display_name": "Python 3",
   "language": "python",
   "name": "python3"
  },
  "language_info": {
   "codemirror_mode": {
    "name": "ipython",
    "version": 3
   },
   "file_extension": ".py",
   "mimetype": "text/x-python",
   "name": "python",
   "nbconvert_exporter": "python",
   "pygments_lexer": "ipython3",
   "version": "3.8.1"
  },
  "toc": {
   "base_numbering": 1,
   "nav_menu": {},
   "number_sections": true,
   "sideBar": true,
   "skip_h1_title": false,
   "title_cell": "Table of Contents",
   "title_sidebar": "Contents",
   "toc_cell": false,
   "toc_position": {
    "height": "calc(100% - 180px)",
    "left": "10px",
    "top": "150px",
    "width": "625.797px"
   },
   "toc_section_display": true,
   "toc_window_display": true
  },
  "varInspector": {
   "cols": {
    "lenName": 16,
    "lenType": 16,
    "lenVar": "160"
   },
   "kernels_config": {
    "python": {
     "delete_cmd_postfix": "",
     "delete_cmd_prefix": "del ",
     "library": "var_list.py",
     "varRefreshCmd": "print(var_dic_list())"
    },
    "r": {
     "delete_cmd_postfix": ") ",
     "delete_cmd_prefix": "rm(",
     "library": "var_list.r",
     "varRefreshCmd": "cat(var_dic_list()) "
    }
   },
   "types_to_exclude": [
    "module",
    "function",
    "builtin_function_or_method",
    "instance",
    "_Feature"
   ],
   "window_display": false
  }
 },
 "nbformat": 4,
 "nbformat_minor": 2
}
