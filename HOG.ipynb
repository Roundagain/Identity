{
 "cells": [
  {
   "cell_type": "markdown",
   "metadata": {},
   "source": [
    "# Imports"
   ]
  },
  {
   "cell_type": "code",
   "execution_count": null,
   "metadata": {
    "ExecuteTime": {
     "end_time": "2020-02-17T12:03:55.790099Z",
     "start_time": "2020-02-17T12:03:55.739887Z"
    }
   },
   "outputs": [],
   "source": [
    "from IPython.core.display import display, HTML\n",
    "display(HTML(\"<style>.container{max-width:80%!important;width:auto!important;}</style>\"))\n",
    "\n",
    "%reload_ext autoreload\n",
    "%autoreload 2\n",
    "%matplotlib inline"
   ]
  },
  {
   "cell_type": "code",
   "execution_count": null,
   "metadata": {
    "ExecuteTime": {
     "end_time": "2020-02-17T12:03:56.426992Z",
     "start_time": "2020-02-17T12:03:56.399418Z"
    }
   },
   "outputs": [],
   "source": [
    "def show_img(im, ax=None, figsize=(8,8)):\n",
    "    if not ax: _,ax = plt.subplots(1,1,figsize=figsize)\n",
    "    if len(im.shape)==2: im = np.tile(im[:,:,None], 3) \n",
    "    ax.imshow(im[:,:,::-1]);\n",
    "    ax.xaxis.set_visible(False)\n",
    "    ax.yaxis.set_visible(False)\n",
    "    return ax"
   ]
  },
  {
   "cell_type": "code",
   "execution_count": null,
   "metadata": {
    "ExecuteTime": {
     "end_time": "2020-02-17T12:03:56.728549Z",
     "start_time": "2020-02-17T12:03:56.701499Z"
    }
   },
   "outputs": [],
   "source": [
    "def show_imgs(ims, rows=1, figsize=(16,8)):\n",
    "    _,ax = plt.subplots(rows, len(ims)//rows, figsize=figsize)\n",
    "    [show_img(im,ax_) for im,ax_ in zip(ims,ax.flatten())]\n",
    "    return ax"
   ]
  },
  {
   "cell_type": "markdown",
   "metadata": {},
   "source": [
    "# HOG (Histograms of Oriented Gradients)"
   ]
  },
  {
   "cell_type": "code",
   "execution_count": null,
   "metadata": {
    "ExecuteTime": {
     "end_time": "2020-02-17T12:03:56.118640Z",
     "start_time": "2020-02-17T12:03:56.091979Z"
    }
   },
   "outputs": [],
   "source": [
    "import cv2\n",
    "import numpy as np\n",
    "import matplotlib.pyplot as plt\n",
    "import matplotlib\n",
    "from tqdm.notebook import trange"
   ]
  },
  {
   "cell_type": "code",
   "execution_count": null,
   "metadata": {
    "ExecuteTime": {
     "end_time": "2020-02-17T12:03:57.192390Z",
     "start_time": "2020-02-17T12:03:57.002396Z"
    }
   },
   "outputs": [],
   "source": [
    "im = cv2.imread('Data/trial.jpeg')\n",
    "show_img(im);"
   ]
  },
  {
   "cell_type": "code",
   "execution_count": null,
   "metadata": {
    "ExecuteTime": {
     "end_time": "2020-02-17T12:03:57.581688Z",
     "start_time": "2020-02-17T12:03:57.470534Z"
    }
   },
   "outputs": [],
   "source": [
    "im_1 = im[252:380, 210:338].copy()\n",
    "im_2 = cv2.resize(im[450:610, 402:562], (128,128))\n",
    "\n",
    "_,ax = plt.subplots(1,2)\n",
    "show_img(im_1, ax[0]);\n",
    "show_img(im_2, ax[1]);\n",
    "\n",
    "im_1.shape, im_2.shape"
   ]
  },
  {
   "cell_type": "markdown",
   "metadata": {},
   "source": [
    "## Gradients"
   ]
  },
  {
   "cell_type": "markdown",
   "metadata": {},
   "source": [
    "Gradient calculation using the `Sobel` operator."
   ]
  },
  {
   "cell_type": "code",
   "execution_count": null,
   "metadata": {
    "ExecuteTime": {
     "end_time": "2020-02-17T12:03:57.951781Z",
     "start_time": "2020-02-17T12:03:57.866393Z"
    }
   },
   "outputs": [],
   "source": [
    "gradX = cv2.Sobel(im_1, ddepth=cv2.CV_32F, dx=1, dy=0) # reveal vertical edges\n",
    "gradY = cv2.Sobel(im_1, ddepth=cv2.CV_32F, dx=0, dy=1) # reveal horizontal edges\n",
    "\n",
    "# gradient magnitude and angle/direction\n",
    "grad = cv2.convertScaleAbs(np.sqrt(gradX**2 + gradY**2))\n",
    "angles = np.mod(np.arctan(gradY/(gradX+1e-10)) * 180/np.pi + 180, 180)\n",
    "\n",
    "# grad2, angles2 = cv2.cartToPolar(gradX, gradY, angleInDegrees=True)\n",
    "# grad2 = cv2.convertScaleAbs(grad2)\n",
    "\n",
    "show_img(grad, figsize=(6,6));"
   ]
  },
  {
   "cell_type": "code",
   "execution_count": null,
   "metadata": {
    "ExecuteTime": {
     "end_time": "2020-02-17T12:03:58.293780Z",
     "start_time": "2020-02-17T12:03:58.268119Z"
    }
   },
   "outputs": [],
   "source": [
    "ix = np.argmax(grad, axis=2)\n",
    "I,J = np.indices(ix.shape)"
   ]
  },
  {
   "cell_type": "code",
   "execution_count": null,
   "metadata": {
    "ExecuteTime": {
     "end_time": "2020-02-17T12:03:58.767914Z",
     "start_time": "2020-02-17T12:03:58.611290Z"
    }
   },
   "outputs": [],
   "source": [
    "sr, sc = slice(15,23), slice(87,95)\n",
    "ax = show_imgs((cv2.rectangle(im_1.copy(), (sc.start,sr.start), (sc.stop,sr.stop), (0,255,0)), im_1[sr,sc]))\n",
    "ax[1].quiver(gradX[I,J,ix][sr,sc], gradY[I,J,ix][sr,sc], color='red');"
   ]
  },
  {
   "cell_type": "markdown",
   "metadata": {
    "ExecuteTime": {
     "end_time": "2020-02-05T13:56:57.235502Z",
     "start_time": "2020-02-05T13:56:57.194638Z"
    }
   },
   "source": [
    "## Histogram"
   ]
  },
  {
   "cell_type": "markdown",
   "metadata": {},
   "source": [
    "We want a descriptor for each 8x8* patch.\n",
    "\n",
    "\\* this is what worked well in the paper that proposed HoG; other sizes are possible"
   ]
  },
  {
   "cell_type": "code",
   "execution_count": null,
   "metadata": {
    "ExecuteTime": {
     "end_time": "2020-02-17T12:04:00.966151Z",
     "start_time": "2020-02-17T12:04:00.840268Z"
    }
   },
   "outputs": [],
   "source": [
    "im_copy = im_1.copy()\n",
    "for x in range(im_copy.shape[1]//8):\n",
    "    for y in range(im_copy.shape[0]//8):\n",
    "        cv2.rectangle(im_copy, (x*8, y*8), ((x+1)*8, (y+1)*8), (0,255,0), 1)\n",
    "\n",
    "ax = show_img(im_copy)"
   ]
  },
  {
   "cell_type": "code",
   "execution_count": null,
   "metadata": {
    "ExecuteTime": {
     "end_time": "2020-02-17T12:04:01.319045Z",
     "start_time": "2020-02-17T12:04:01.290455Z"
    }
   },
   "outputs": [],
   "source": [
    "grad_mx = grad[I,J,ix]\n",
    "angles_mx = angles[I,J,ix]\n",
    "\n",
    "grad_p = grad_mx[sr,sc]\n",
    "angles_p = angles_mx[sr,sc]\n",
    "\n",
    "grad_p, angles_p"
   ]
  },
  {
   "cell_type": "markdown",
   "metadata": {},
   "source": [
    "Our histogram will have 9 bins, 20 degrees apart. Angles above 160 degrees contribute both to the last and first been (wrap around 180), proportionally."
   ]
  },
  {
   "cell_type": "code",
   "execution_count": null,
   "metadata": {
    "ExecuteTime": {
     "end_time": "2020-02-17T12:04:02.997492Z",
     "start_time": "2020-02-17T12:04:02.962330Z"
    }
   },
   "outputs": [],
   "source": [
    "bins = np.arange(-20,181,20)\n",
    "bins"
   ]
  },
  {
   "cell_type": "code",
   "execution_count": null,
   "metadata": {
    "ExecuteTime": {
     "end_time": "2020-02-17T12:04:03.518691Z",
     "start_time": "2020-02-17T12:04:03.483829Z"
    },
    "scrolled": false
   },
   "outputs": [],
   "source": [
    "def hog_descr(grad_p, angles_p):\n",
    "    bin_cnts = np.zeros((11,))\n",
    "\n",
    "    for g,a in zip(grad_p.flatten(),angles_p.flatten()):\n",
    "\n",
    "        # which bin(s)?\n",
    "        b1 = np.argwhere(a>bins).max()\n",
    "        b2 = np.argwhere(a<bins).min()\n",
    "    #     print(a,b1,b2,bins[b1],bins[b2])\n",
    "\n",
    "        if b2-b1==2:\n",
    "            bin_cnts[(b1+b2)//2] += g\n",
    "        else:\n",
    "            w2 = abs(bins[b1]-a) / (bins[b2]-bins[b1])\n",
    "            w1 = abs(bins[b2]-a) / (bins[b2]-bins[b1])\n",
    "            bin_cnts[b1] += w1*g\n",
    "            bin_cnts[b2] += w2*g\n",
    "\n",
    "    bin_cnts[1] += bin_cnts[-1]\n",
    "    bin_cnts = bin_cnts[1:-1] # drop bins -20 and 180\n",
    "    return bin_cnts"
   ]
  },
  {
   "cell_type": "code",
   "execution_count": null,
   "metadata": {
    "ExecuteTime": {
     "end_time": "2020-02-17T12:04:04.118758Z",
     "start_time": "2020-02-17T12:04:04.086217Z"
    }
   },
   "outputs": [],
   "source": [
    "bin_cnts = hog_descr(grad_p, angles_p)"
   ]
  },
  {
   "cell_type": "code",
   "execution_count": null,
   "metadata": {
    "ExecuteTime": {
     "end_time": "2020-02-17T12:04:04.680653Z",
     "start_time": "2020-02-17T12:04:04.647248Z"
    }
   },
   "outputs": [],
   "source": [
    "bin_cnts.sum(), grad_p.sum()"
   ]
  },
  {
   "cell_type": "code",
   "execution_count": null,
   "metadata": {
    "ExecuteTime": {
     "end_time": "2020-02-17T12:04:05.200884Z",
     "start_time": "2020-02-17T12:04:05.066288Z"
    }
   },
   "outputs": [],
   "source": [
    "plt.bar(bins[1:-1], bin_cnts, width=15)\n",
    "plt.xticks(bins[1:-1]);"
   ]
  },
  {
   "cell_type": "code",
   "execution_count": null,
   "metadata": {
    "ExecuteTime": {
     "end_time": "2020-02-17T12:04:07.201408Z",
     "start_time": "2020-02-17T12:04:06.302674Z"
    }
   },
   "outputs": [],
   "source": [
    "descr = np.zeros((grad.shape[1]//8, grad.shape[0]//8, 9))\n",
    "\n",
    "for x in trange(grad.shape[1]//8):\n",
    "    for y in range(grad.shape[0]//8):\n",
    "        descr[y,x] = hog_descr(grad_mx[y*8:(y+1)*8, x*8:(x+1)*8], angles_mx[y*8:(y+1)*8, x*8:(x+1)*8])"
   ]
  },
  {
   "cell_type": "markdown",
   "metadata": {},
   "source": [
    "### Normalisation "
   ]
  },
  {
   "cell_type": "markdown",
   "metadata": {},
   "source": [
    "Gradient magnitudes depend on lighting; if we changed the brightness of the image, the gradients will change as well - we want to counteract this by normalising the histograms. We could normalise each of the histograms individually but for better results we'll do it in 2x2 blocks (or 16x16 pixel regions)."
   ]
  },
  {
   "cell_type": "code",
   "execution_count": null,
   "metadata": {
    "ExecuteTime": {
     "end_time": "2020-02-17T12:04:09.019615Z",
     "start_time": "2020-02-17T12:04:08.987224Z"
    }
   },
   "outputs": [],
   "source": [
    "descr.shape"
   ]
  },
  {
   "cell_type": "code",
   "execution_count": null,
   "metadata": {
    "ExecuteTime": {
     "end_time": "2020-02-17T12:04:09.403653Z",
     "start_time": "2020-02-17T12:04:09.373665Z"
    }
   },
   "outputs": [],
   "source": [
    "descr_norm = np.zeros_like(descr)\n",
    "for x in range(descr.shape[1]-1):\n",
    "    for y in range(descr.shape[0]-1):\n",
    "        d = descr[y:y+2, x:x+2]\n",
    "        descr_norm[y:y+2,x:x+2] += d / np.sqrt((d**2).sum())"
   ]
  },
  {
   "cell_type": "code",
   "execution_count": null,
   "metadata": {
    "ExecuteTime": {
     "end_time": "2020-02-17T12:04:09.809577Z",
     "start_time": "2020-02-17T12:04:09.780155Z"
    }
   },
   "outputs": [],
   "source": [
    "dv = np.full(descr_norm.shape[:2], 4)\n",
    "a = np.array([1] + (descr.shape[0]-2)*[2] + [1])\n",
    "dv[0, :] = a\n",
    "dv[-1,:] = a\n",
    "dv[:, 0] = a\n",
    "dv[:,-1] = a\n",
    "dv"
   ]
  },
  {
   "cell_type": "code",
   "execution_count": null,
   "metadata": {
    "ExecuteTime": {
     "end_time": "2020-02-17T12:04:10.220038Z",
     "start_time": "2020-02-17T12:04:10.191715Z"
    }
   },
   "outputs": [],
   "source": [
    "descr_norm /= dv[...,None]\n",
    "descr_norm[:4,:4]"
   ]
  },
  {
   "cell_type": "markdown",
   "metadata": {},
   "source": [
    "## HOG in scikit-image"
   ]
  },
  {
   "cell_type": "code",
   "execution_count": null,
   "metadata": {
    "ExecuteTime": {
     "end_time": "2020-02-17T12:04:13.408968Z",
     "start_time": "2020-02-17T12:04:12.511298Z"
    }
   },
   "outputs": [],
   "source": [
    "from skimage.feature import hog\n",
    "from skimage import data, exposure\n",
    "\n",
    "fd, hog_image = hog(im, orientations=8, pixels_per_cell=(16, 16), cells_per_block=(1, 1), visualize=True, multichannel=True)\n",
    "hog_image_rescaled = exposure.rescale_intensity(hog_image, in_range=(0, 10))\n",
    "\n",
    "_, ax = plt.subplots(1, 2, figsize=(16, 8), sharex=True, sharey=True)\n",
    "\n",
    "ax[0].axis('off'); ax[0].imshow(im[:,:,::-1]);\n",
    "ax[1].axis('off'); ax[1].imshow(hog_image_rescaled, cmap=plt.cm.gray);"
   ]
  },
  {
   "cell_type": "code",
   "execution_count": null,
   "metadata": {},
   "outputs": [],
   "source": []
  }
 ],
 "metadata": {
  "kernelspec": {
   "display_name": "Python 3",
   "language": "python",
   "name": "python3"
  },
  "language_info": {
   "codemirror_mode": {
    "name": "ipython",
    "version": 3
   },
   "file_extension": ".py",
   "mimetype": "text/x-python",
   "name": "python",
   "nbconvert_exporter": "python",
   "pygments_lexer": "ipython3",
   "version": "3.8.1"
  },
  "toc": {
   "base_numbering": 1,
   "nav_menu": {},
   "number_sections": true,
   "sideBar": true,
   "skip_h1_title": false,
   "title_cell": "Table of Contents",
   "title_sidebar": "Contents",
   "toc_cell": false,
   "toc_position": {
    "height": "calc(100% - 180px)",
    "left": "10px",
    "top": "150px",
    "width": "341.797px"
   },
   "toc_section_display": true,
   "toc_window_display": true
  },
  "varInspector": {
   "cols": {
    "lenName": 16,
    "lenType": 16,
    "lenVar": "160"
   },
   "kernels_config": {
    "python": {
     "delete_cmd_postfix": "",
     "delete_cmd_prefix": "del ",
     "library": "var_list.py",
     "varRefreshCmd": "print(var_dic_list())"
    },
    "r": {
     "delete_cmd_postfix": ") ",
     "delete_cmd_prefix": "rm(",
     "library": "var_list.r",
     "varRefreshCmd": "cat(var_dic_list()) "
    }
   },
   "types_to_exclude": [
    "module",
    "function",
    "builtin_function_or_method",
    "instance",
    "_Feature"
   ],
   "window_display": false
  }
 },
 "nbformat": 4,
 "nbformat_minor": 2
}
